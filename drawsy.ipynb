{
 "cells": [
  {
   "cell_type": "code",
   "execution_count": 3,
   "metadata": {},
   "outputs": [
    {
     "name": "stdout",
     "output_type": "stream",
     "text": [
      "Requirement already satisfied: cvzone in c:\\users\\ali nabil\\appdata\\local\\programs\\python\\python310\\lib\\site-packages (1.6.1)\n",
      "Requirement already satisfied: opencv-python in c:\\users\\ali nabil\\appdata\\local\\programs\\python\\python310\\lib\\site-packages (from cvzone) (4.8.1.78)\n",
      "Requirement already satisfied: numpy in c:\\users\\ali nabil\\appdata\\local\\programs\\python\\python310\\lib\\site-packages (from cvzone) (1.26.2)\n",
      "Note: you may need to restart the kernel to use updated packages.\n"
     ]
    },
    {
     "name": "stderr",
     "output_type": "stream",
     "text": [
      "WARNING: Ignoring invalid distribution -atplotlib (c:\\users\\ali nabil\\appdata\\local\\programs\\python\\python310\\lib\\site-packages)\n",
      "WARNING: Ignoring invalid distribution -ensorflow-intel (c:\\users\\ali nabil\\appdata\\local\\programs\\python\\python310\\lib\\site-packages)\n",
      "WARNING: Ignoring invalid distribution -rotobuf (c:\\users\\ali nabil\\appdata\\local\\programs\\python\\python310\\lib\\site-packages)\n",
      "WARNING: Ignoring invalid distribution -atplotlib (c:\\users\\ali nabil\\appdata\\local\\programs\\python\\python310\\lib\\site-packages)\n",
      "WARNING: Ignoring invalid distribution -ensorflow-intel (c:\\users\\ali nabil\\appdata\\local\\programs\\python\\python310\\lib\\site-packages)\n",
      "WARNING: Ignoring invalid distribution -rotobuf (c:\\users\\ali nabil\\appdata\\local\\programs\\python\\python310\\lib\\site-packages)\n"
     ]
    }
   ],
   "source": [
    "pip install cvzone\n"
   ]
  },
  {
   "cell_type": "code",
   "execution_count": 4,
   "metadata": {},
   "outputs": [
    {
     "name": "stdout",
     "output_type": "stream",
     "text": [
      "Requirement already satisfied: mediapipe in c:\\users\\ali nabil\\appdata\\local\\programs\\python\\python310\\lib\\site-packages (0.10.8)\n",
      "Requirement already satisfied: absl-py in c:\\users\\ali nabil\\appdata\\local\\programs\\python\\python310\\lib\\site-packages (from mediapipe) (1.4.0)\n",
      "Requirement already satisfied: attrs>=19.1.0 in c:\\users\\ali nabil\\appdata\\local\\programs\\python\\python310\\lib\\site-packages (from mediapipe) (23.1.0)\n",
      "Requirement already satisfied: flatbuffers>=2.0 in c:\\users\\ali nabil\\appdata\\local\\programs\\python\\python310\\lib\\site-packages (from mediapipe) (23.5.26)\n",
      "Requirement already satisfied: matplotlib in c:\\users\\ali nabil\\appdata\\local\\programs\\python\\python310\\lib\\site-packages (from mediapipe) (3.8.2)\n",
      "Requirement already satisfied: numpy in c:\\users\\ali nabil\\appdata\\local\\programs\\python\\python310\\lib\\site-packages (from mediapipe) (1.26.2)\n",
      "Requirement already satisfied: opencv-contrib-python in c:\\users\\ali nabil\\appdata\\local\\programs\\python\\python310\\lib\\site-packages (from mediapipe) (4.8.1.78)\n",
      "Requirement already satisfied: protobuf<4,>=3.11 in c:\\users\\ali nabil\\appdata\\local\\programs\\python\\python310\\lib\\site-packages (from mediapipe) (3.20.3)\n",
      "Requirement already satisfied: sounddevice>=0.4.4 in c:\\users\\ali nabil\\appdata\\local\\programs\\python\\python310\\lib\\site-packages (from mediapipe) (0.4.6)\n",
      "Requirement already satisfied: CFFI>=1.0 in c:\\users\\ali nabil\\appdata\\local\\programs\\python\\python310\\lib\\site-packages (from sounddevice>=0.4.4->mediapipe) (1.16.0)\n",
      "Requirement already satisfied: contourpy>=1.0.1 in c:\\users\\ali nabil\\appdata\\local\\programs\\python\\python310\\lib\\site-packages (from matplotlib->mediapipe) (1.0.7)\n",
      "Requirement already satisfied: cycler>=0.10 in c:\\users\\ali nabil\\appdata\\local\\programs\\python\\python310\\lib\\site-packages (from matplotlib->mediapipe) (0.11.0)\n",
      "Requirement already satisfied: fonttools>=4.22.0 in c:\\users\\ali nabil\\appdata\\local\\programs\\python\\python310\\lib\\site-packages (from matplotlib->mediapipe) (4.39.3)\n",
      "Requirement already satisfied: kiwisolver>=1.3.1 in c:\\users\\ali nabil\\appdata\\local\\programs\\python\\python310\\lib\\site-packages (from matplotlib->mediapipe) (1.4.4)\n",
      "Requirement already satisfied: packaging>=20.0 in c:\\users\\ali nabil\\appdata\\local\\programs\\python\\python310\\lib\\site-packages (from matplotlib->mediapipe) (23.0)\n",
      "Requirement already satisfied: pillow>=8 in c:\\users\\ali nabil\\appdata\\local\\programs\\python\\python310\\lib\\site-packages (from matplotlib->mediapipe) (9.4.0)\n",
      "Requirement already satisfied: pyparsing>=2.3.1 in c:\\users\\ali nabil\\appdata\\local\\programs\\python\\python310\\lib\\site-packages (from matplotlib->mediapipe) (3.0.9)\n",
      "Requirement already satisfied: python-dateutil>=2.7 in c:\\users\\ali nabil\\appdata\\local\\programs\\python\\python310\\lib\\site-packages (from matplotlib->mediapipe) (2.8.2)\n",
      "Requirement already satisfied: pycparser in c:\\users\\ali nabil\\appdata\\local\\programs\\python\\python310\\lib\\site-packages (from CFFI>=1.0->sounddevice>=0.4.4->mediapipe) (2.21)\n",
      "Requirement already satisfied: six>=1.5 in c:\\users\\ali nabil\\appdata\\local\\programs\\python\\python310\\lib\\site-packages (from python-dateutil>=2.7->matplotlib->mediapipe) (1.16.0)\n",
      "Note: you may need to restart the kernel to use updated packages.\n"
     ]
    },
    {
     "name": "stderr",
     "output_type": "stream",
     "text": [
      "WARNING: Ignoring invalid distribution -atplotlib (c:\\users\\ali nabil\\appdata\\local\\programs\\python\\python310\\lib\\site-packages)\n",
      "WARNING: Ignoring invalid distribution -ensorflow-intel (c:\\users\\ali nabil\\appdata\\local\\programs\\python\\python310\\lib\\site-packages)\n",
      "WARNING: Ignoring invalid distribution -rotobuf (c:\\users\\ali nabil\\appdata\\local\\programs\\python\\python310\\lib\\site-packages)\n",
      "WARNING: Ignoring invalid distribution -atplotlib (c:\\users\\ali nabil\\appdata\\local\\programs\\python\\python310\\lib\\site-packages)\n",
      "WARNING: Ignoring invalid distribution -ensorflow-intel (c:\\users\\ali nabil\\appdata\\local\\programs\\python\\python310\\lib\\site-packages)\n",
      "WARNING: Ignoring invalid distribution -rotobuf (c:\\users\\ali nabil\\appdata\\local\\programs\\python\\python310\\lib\\site-packages)\n"
     ]
    }
   ],
   "source": [
    "%pip install mediapipe\n"
   ]
  },
  {
   "cell_type": "code",
   "execution_count": 2,
   "metadata": {},
   "outputs": [
    {
     "name": "stdout",
     "output_type": "stream",
     "text": [
      "311\n",
      "[38.0, 38.0, 38.333333333333336, 38.25, 38.4, 38.166666666666664, 37.857142857142854, 37.625, 37.55555555555556, 37.5, 37.36363636363637, 37.25, 37.23076923076923, 37.214285714285715, 37.4, 37.4375, 37.11764705882353, 36.888888888888886, 36.63157894736842, 36.6, 36.57142857142857, 36.45454545454545, 36.391304347826086, 35.958333333333336, 35.64, 35.34615384615385, 35.18518518518518, 35.142857142857146, 35.206896551724135, 35.266666666666666, 35.354838709677416, 35.46875, 35.57575757575758, 35.705882352941174, 35.82857142857143, 35.888888888888886, 35.972972972972975, 36.026315789473685, 36.1025641025641, 36.175, 36.24390243902439, 36.30952380952381, 36.30232558139535, 36.36363636363637, 36.355555555555554, 36.369565217391305, 36.361702127659576, 36.375, 36.42857142857143, 36.5, 36.549019607843135, 36.59615384615385, 36.64150943396226, 36.7037037037037, 36.763636363636365, 36.82142857142857, 36.87719298245614, 36.91379310344828, 36.983050847457626, 37.05, 37.08196721311475, 37.12903225806452, 37.17460317460318, 37.15625, 37.12307692307692, 37.121212121212125, 37.07462686567164, 37.05882352941177, 37.028985507246375, 37.0, 36.971830985915496, 36.958333333333336, 36.93150684931507, 36.891891891891895, 36.88, 36.89473684210526, 36.883116883116884, 36.88461538461539, 36.88607594936709, 36.9, 36.79012345679013, 36.68292682926829, 36.57831325301205, 36.54761904761905, 36.50588235294118, 36.48837209302326, 36.45977011494253, 36.45454545454545, 36.438202247191015, 36.44444444444444, 36.43956043956044, 36.45652173913044, 36.46236559139785, 36.47872340425532, 36.473684210526315, 36.479166666666664, 36.47422680412371, 36.46938775510204, 36.45454545454545, 36.45, 36.445544554455445, 36.44117647058823, 36.42718446601942, 36.42307692307692, 36.43809523809524, 36.45283018867924, 36.47663551401869, 36.48148148148148, 36.51376146788991, 36.527272727272724, 36.549549549549546, 36.63392857142857, 36.690265486725664, 36.74561403508772, 36.8, 36.85344827586207, 36.8974358974359, 36.855932203389834, 36.81512605042017, 36.78333333333333, 36.79338842975206, 36.81967213114754, 36.829268292682926, 36.82258064516129, 36.848, 36.857142857142854, 36.85826771653543, 36.875, 36.87596899224806, 36.88461538461539, 36.89312977099237, 36.916666666666664, 36.932330827067666, 36.94776119402985, 36.955555555555556, 36.955882352941174, 36.956204379562045, 36.96376811594203, 36.97122302158273, 36.97857142857143, 36.9645390070922, 36.971830985915496, 36.95804195804196, 36.951388888888886, 36.95862068965517, 36.986301369863014, 37.02040816326531, 37.054054054054056, 37.09395973154363, 37.12, 37.086092715231786, 37.046052631578945, 37.00653594771242, 37.006493506493506, 37.00645161290323, 37.01923076923077, 37.031847133757964, 37.037974683544306, 37.075471698113205, 37.0875, 37.11180124223603, 37.141975308641975, 37.15337423312884, 37.15243902439025, 37.163636363636364, 37.19277108433735, 37.209580838323355, 37.226190476190474, 37.23668639053255, 37.23529411764706, 37.228070175438596, 37.174418604651166, 37.09826589595376, 37.02298850574713, 36.965714285714284, 36.92045454545455, 36.88135593220339, 36.848314606741575, 36.815642458100555, 36.772222222222226, 36.729281767955804, 36.6978021978022, 36.66120218579235, 36.625, 36.58378378378379, 36.53763440860215, 36.470588235294116, 36.41489361702128, 36.36507936507937, 36.31578947368421, 36.26701570680628, 36.229166666666664, 36.181347150259064, 36.149484536082475, 36.11794871794872, 36.0969387755102, 36.076142131979694, 36.04545454545455, 36.015075376884425, 35.985, 35.940298507462686, 35.89108910891089, 35.847290640394085, 35.80392156862745, 35.765853658536585, 35.73300970873787, 35.70531400966183, 35.67788461538461, 35.63636363636363, 35.60952380952381, 35.58293838862559, 35.56132075471698, 35.53521126760563, 35.50934579439252, 35.49302325581395, 35.476851851851855, 35.465437788018434, 35.45871559633027, 35.45205479452055, 35.445454545454545, 35.43891402714932, 35.42342342342342, 35.39013452914798, 35.357142857142854, 35.34222222222222, 35.32743362831859, 35.31277533039648, 35.28508771929825, 35.23580786026201, 35.2, 35.16017316017316, 35.116379310344826, 35.07725321888412, 35.047008547008545, 35.06808510638298, 35.07627118644068, 35.08016877637131, 35.08403361344538, 35.09623430962343, 35.104166666666664, 35.107883817427386, 35.103305785123965, 35.09465020576132, 35.08606557377049, 35.077551020408166, 35.077235772357724, 35.07692307692308, 35.08064516129032, 35.08433734939759, 35.088, 35.091633466135455, 35.1031746031746, 35.11067193675889, 35.11417322834646, 35.11764705882353, 35.1171875, 35.10505836575876, 35.08914728682171, 35.07335907335907, 35.05, 35.02298850574713, 34.99236641221374, 34.961977186311785, 34.93939393939394, 34.924528301886795, 34.91353383458647, 34.9063670411985, 34.88805970149254, 34.87360594795539, 34.85925925925926, 34.845018450184504, 34.82720588235294, 34.794871794871796, 34.75912408759124, 34.72727272727273, 34.70289855072464, 34.67870036101083, 34.66546762589928, 34.65232974910394, 34.635714285714286, 34.619217081850536, 34.60992907801418, 34.590106007067135, 34.57394366197183, 34.564912280701755, 34.55594405594405, 34.55400696864111, 34.545138888888886, 34.53979238754325, 34.52413793103448, 34.508591065292094, 34.50342465753425, 34.50511945392491, 34.506802721088434, 34.51864406779661, 34.520270270270274, 34.50841750841751, 34.49664429530201, 34.48160535117057, 34.47, 34.46843853820598, 34.473509933774835, 34.48184818481848, 34.473684210526315, 34.46229508196721, 34.450980392156865, 34.442996742671006, 34.435064935064936, 34.42718446601942, 34.41935483870968, 34.42122186495177, 34.42948717948718, 34.424920127795524, 34.42356687898089, 34.40952380952381, 34.38607594936709, 34.37223974763407, 34.361635220125784, 34.34796238244514, 34.33125, 34.31464174454829, 34.30124223602485, 34.29102167182663, 34.28395061728395, 34.283076923076926, 34.2760736196319, 34.269113149847094, 34.25914634146341, 34.246200607902736, 34.23939393939394, 34.229607250755286, 34.20783132530121, 34.192192192192195, 34.17365269461078, 34.16119402985075, 34.148809523809526, 34.14243323442137, 34.142011834319526, 34.13569321533923, 34.12647058823529, 34.105571847507335, 34.08771929824562, 34.075801749271136, 34.06104651162791, 34.03768115942029, 34.02023121387283, 34.002881844380404, 33.99425287356322, 33.98853868194843, 33.93142857142857, 33.914529914529915, 33.91477272727273, 33.920679886685555, 33.92372881355932, 33.926760563380284, 33.92977528089887, 33.938375350140056, 33.94134078212291, 33.94428969359331, 33.94166666666667, 33.93628808864266, 33.93370165745856, 33.93388429752066, 33.92857142857143, 33.92054794520548, 33.91256830601093, 33.8991825613079, 33.89402173913044, 33.89159891598916, 33.88108108108108, 33.86522911051213, 33.86021505376344, 33.84986595174263, 33.842245989304814, 33.82666666666667, 33.81117021276596, 33.790450928381965, 33.783068783068785, 33.773087071240106, 33.76842105263158, 33.76115485564304, 33.75916230366492, 33.762402088772845, 33.770833333333336, 33.77142857142857, 33.77720207253886, 33.78294573643411, 33.78865979381443, 33.79434447300771, 33.794871794871796, 33.77493606138108, 33.75765306122449, 33.74809160305343, 33.733502538071065, 33.71898734177215, 33.707070707070706, 33.695214105793454, 33.685929648241206, 33.68421052631579, 33.6875, 33.69077306733167, 33.691542288557216, 33.69975186104218, 33.70049504950495, 33.70123456790123, 33.70197044334975, 33.7002457002457, 33.705882352941174, 33.71149144254279, 33.71707317073171, 33.722627737226276, 33.728155339805824, 33.728813559322035, 33.727053140096615, 33.73012048192771, 33.73798076923077, 33.74580335731415, 33.751196172248804, 33.756563245823386, 33.76190476190476, 33.757719714964374, 33.74407582938389, 33.725768321513, 33.7122641509434, 33.703529411764706, 33.69953051643193, 33.69320843091335, 33.68691588785047, 33.687645687645684, 33.68604651162791, 33.68213457076566, 33.68055555555556, 33.68129330254042, 33.68663594470046, 33.689655172413794, 33.70871559633027, 33.7299771167048, 33.74885844748859, 33.76537585421412, 33.78409090909091, 33.80045351473923, 33.81221719457014, 33.82392776523702, 33.835585585585584, 33.83370786516854, 33.836322869955154, 33.84116331096197, 33.839285714285715, 33.83296213808463, 33.82, 33.809312638580934, 33.796460176991154, 33.790286975717436, 33.78854625550661, 33.79120879120879, 33.791666666666664, 33.78774617067834, 33.786026200873366, 33.77559912854031, 33.7695652173913, 33.75704989154013, 33.75974025974026, 33.76241900647948, 33.765086206896555, 33.76989247311828, 33.77467811158798, 33.78372591006424, 33.792735042735046, 33.795309168443495, 33.80212765957447, 33.796178343949045, 33.79661016949152, 33.79915433403806, 33.79746835443038, 33.80421052631579, 33.8109243697479, 33.81761006289308, 33.82426778242678, 33.83089770354906, 33.83125, 33.83367983367983, 33.821576763485474, 33.81159420289855, 33.799586776859506, 33.78762886597938, 33.775720164609055, 33.75154004106776, 33.72950819672131, 33.715746421267895, 33.70612244897959, 33.69450101832994, 33.6890243902439, 33.68762677484787, 33.69028340080972, 33.68484848484849, 33.68346774193548, 33.686116700201204, 33.68674698795181, 33.69138276553106, 33.696, 33.69061876247505, 33.677290836653384, 33.664015904572565, 33.66269841269841, 33.65940594059406, 33.65810276679842, 33.65483234714004, 33.653543307086615, 33.654223968565816, 33.654901960784315, 33.65557729941292, 33.65625, 33.65107212475633, 33.6420233463035, 33.633009708737866, 33.62403100775194, 33.61702127659574, 33.61196911196911, 33.61078998073218, 33.613461538461536, 33.61420345489444, 33.61494252873563, 33.619502868068835, 33.62213740458015, 33.626666666666665, 33.631178707224336, 33.63567362428842, 33.640151515151516, 33.64461247637051, 33.64905660377359, 33.653483992467045, 33.6578947368421, 33.66228893058161, 33.666666666666664, 33.66728971962617, 33.67164179104478, 33.67411545623836, 33.674721189591075, 33.675324675324674, 33.67962962962963, 33.685767097966725, 33.68819188191882, 33.67955801104972, 33.6764705882353, 33.678899082568805, 33.67948717948718, 33.680073126142595, 33.68065693430657, 33.67941712204007, 33.68363636363637, 33.69691470054446, 33.70471014492754, 33.70886075949367, 33.711191335740075, 33.715315315315316, 33.719424460431654, 33.727109515260324, 33.73297491039426, 33.74060822898032, 33.74464285714286, 33.750445632798574, 33.756227758007114, 33.763765541740675, 33.76418439716312, 33.766371681415926, 33.754416961130744, 33.742504409171076, 33.735915492957744, 33.7311072056239, 33.728070175438596, 33.725043782837126, 33.72202797202797, 33.719022687609076, 33.717770034843205, 33.71478260869565, 33.71527777777778, 33.7157712305026, 33.71453287197232, 33.7167530224525, 33.71551724137931, 33.71772805507745, 33.7147766323024]\n",
      "1703056328.6751726\n",
      "{28: [0.37233734130859375, 0.11193370819091797, 0.2488560676574707, 0.11293220520019531, 0.14191961288452148, 0.13891935348510742, 0.11493444442749023, 0.14691591262817383, 0.5266973972320557, 0.7765560150146484], 32: [0.1339254379272461, 0.14991188049316406, 0.10693931579589844, 0.10793900489807129, 0.22187232971191406, 0.10893774032592773, 0.11293721199035645, 0.22887134552001953, 0.36578965187072754, 0.17690253257751465, 0.14991450309753418, 0.27335667610168457, 0.41327905654907227], 31: [0.14891648292541504, 0.15091371536254883, 0.11493444442749023, 0.11693334579467773, 0.23186922073364258, 0.1199331283569336, 0.11793231964111328, 0.10793733596801758, 0.10793685913085938, 0.18389487266540527], 24: [0.11093616485595703], 29: [0.10893821716308594, 0.16290783882141113, 0.12892746925354004, 0.24390649795532227, 0.4719254970550537], 30: [0.13692116737365723, 0.15790915489196777, 0.19488787651062012, 0.40976476669311523, 0.10893917083740234, 0.11893081665039062, 0.13492107391357422, 0.14491701126098633, 0.13092732429504395, 0.14891481399536133], 27: [0.1139376163482666, 0.21987581253051758, 0.14991378784179688, 0.11693406105041504, 0.424008846282959, 0.13243556022644043], 34: [0.11593341827392578, 0.2248697280883789, 0.3408036231994629, 0.10193872451782227, 0.21287846565246582, 0.6271767616271973, 0.8621931076049805, 1.03920578956604, 0.26384782791137695, 0.17392945289611816, 0.15442419052124023, 0.29934215545654297, 0.18389391899108887], 33: [0.11094164848327637, 0.21887636184692383]}\n"
     ]
    },
    {
     "data": {
      "text/plain": [
       "-1"
      ]
     },
     "execution_count": 2,
     "metadata": {},
     "output_type": "execute_result"
    }
   ],
   "source": [
    "import cv2\n",
    "from cvzone.FaceMeshModule import FaceMeshDetector\n",
    "import psutil\n",
    "import math\n",
    "import time\n",
    "##\n",
    "from cvzone.PlotModule import LivePlot\n",
    "\n",
    "\n",
    "cap = cv2.VideoCapture(r\"G:\\GUABE7859.MOV\")\n",
    "detector = FaceMeshDetector(maxFaces=1) # one face detector\n",
    "##\n",
    "plot_h=LivePlot(530,240\n",
    "                )\n",
    "id_list=[22,23,24,26,110,157,158,159,160,161,130,243]                           #[22,23,24,26,110,157]130,243\n",
    "\n",
    "result_dict={}\n",
    "last_dividedR=None\n",
    "blink_number=0\n",
    "counter=0\n",
    "list_dividedR=[]\n",
    "avg_dividedR_list=[]\n",
    "while True:\n",
    "    if cap.get(cv2.CAP_PROP_POS_FRAMES) == cap.get(cv2.CAP_PROP_FRAME_COUNT):\n",
    "        #cap.set(cv2.CAP_PROP_POS_FRAMES, 0)\n",
    "        break\n",
    "    success, img = cap.read()\n",
    "    #\n",
    "    img,faces=detector.findFaceMesh(img,draw=False)                    #draw=false\n",
    "    \n",
    "     \n",
    "    # draw circl\n",
    "    if faces:\n",
    "        faces=faces[0]                  #maximum faces is 1\n",
    "        for i in id_list:               #build circle on key points [22,23,24]\n",
    "            cv2.circle(img,faces[i],5,(255,255,0),cv2.FILLED)\n",
    "            \n",
    "        l_top=faces[159]\n",
    "        l_bottom=faces[23]\n",
    "        V_distance=detector.findDistance(l_top,l_bottom)                                                              #[16,17,18,19,20] open 16, close 20\n",
    "                                                                                                                        # cv2.line(img,l_top,l_bottom,(0,0,0)) \n",
    "        \n",
    "        l_right=faces[243]\n",
    "        l_left=faces[130]\n",
    "        H_distance=detector.findDistance(l_left,l_right)\n",
    "        \n",
    "        dividedR=int((V_distance[0]/H_distance[0])*100)\n",
    "        list_dividedR.append(dividedR)\n",
    "        \n",
    "        #ratio avg \n",
    "        avg_dividedR=sum(list_dividedR)/len(list_dividedR)\n",
    "        avg_dividedR_list.append(avg_dividedR)\n",
    "        \n",
    "        \n",
    "        #show ploting function \n",
    "        updating=plot_h.update(dividedR)\n",
    "        \n",
    "\n",
    "    \n",
    "        \n",
    "        #for j in avg_dividedR_list:\n",
    "        #    if j==j+1:\n",
    "        #        avg_dividedR_list.pop(j)\n",
    "              \n",
    "        \n",
    "        #to dell first number from left\n",
    "        #if len(avg_dividedR_list)>5:\n",
    "        #       avg_dividedR_list.pop(0)\n",
    "                \n",
    "\n",
    "        \n",
    "                \n",
    "        if dividedR < 35:\n",
    "            counter += 1\n",
    "            if last_dividedR != dividedR:\n",
    "                start_time = time.time()\n",
    "        else:\n",
    "            start_time = None\n",
    "\n",
    "        if last_dividedR is not None and start_time is not None and time.time() - start_time > 0:\n",
    "           #if duration = 0.5: \n",
    "            if last_dividedR in result_dict:\n",
    "                result_dict[last_dividedR].append(time.time() - start_time)\n",
    "            else:\n",
    "                result_dict[last_dividedR] = [time.time() - start_time]\n",
    "\n",
    "        last_dividedR = dividedR\n",
    "       \n",
    "        \n",
    "                        \n",
    "        #calc the seta rather tha ratio between H,V\n",
    "        #tanh_distances = (math.tanh(H_distance[0]), math.tanh(V_distance[0]))\n",
    "        #print(tanh_distances)\n",
    "        # V_list=[]\n",
    "        #for i in V_distance:\n",
    "        #    V_list.append(i)\n",
    "        #print(V_list)    \n",
    "        \n",
    "        \n",
    "    if not success:\n",
    "        break\n",
    "\n",
    "    img, faces = detector.findFaceMesh(img)\n",
    "    img = cv2.resize(img, (640, 360))\n",
    "    \n",
    "    cv2.imshow('Image',updating)\n",
    "    cv2.imshow('Video',img)\n",
    "    if cv2.waitKey(1) & 0xFF == ord('q'):\n",
    "        break\n",
    "print(counter)\n",
    "print(avg_dividedR_list)\n",
    "print(start_time)\n",
    "print(result_dict)\n",
    "cap.release()\n",
    "cv2.destroyAllWindows()\n",
    "cv2.waitKey()\n",
    "\n",
    "\n"
   ]
  },
  {
   "cell_type": "code",
   "execution_count": 8,
   "metadata": {},
   "outputs": [
    {
     "name": "stdout",
     "output_type": "stream",
     "text": [
      "Result DataFrame:\n",
      "    Duration_1  Duration_2  Duration_3  Duration_4  Duration_5  Duration_6  \\\n",
      "28    0.372337    0.111934    0.248856    0.112932    0.141920    0.138919   \n",
      "32    0.133925    0.149912    0.106939    0.107939    0.221872    0.108938   \n",
      "31    0.148916    0.150914    0.114934    0.116933    0.231869    0.119933   \n",
      "24    0.110936         NaN         NaN         NaN         NaN         NaN   \n",
      "29    0.108938    0.162908    0.128927    0.243906    0.471925         NaN   \n",
      "30    0.136921    0.157909    0.194888    0.409765    0.108939    0.118931   \n",
      "27    0.113938    0.219876    0.149914    0.116934    0.424009    0.132436   \n",
      "34    0.115933    0.224870    0.340804    0.101939    0.212878    0.627177   \n",
      "33    0.110942    0.218876         NaN         NaN         NaN         NaN   \n",
      "\n",
      "    Duration_7  Duration_8  Duration_9  Duration_10  Duration_11  Duration_12  \\\n",
      "28    0.114934    0.146916    0.526697     0.776556          NaN          NaN   \n",
      "32    0.112937    0.228871    0.365790     0.176903     0.149915     0.273357   \n",
      "31    0.117932    0.107937    0.107937     0.183895          NaN          NaN   \n",
      "24         NaN         NaN         NaN          NaN          NaN          NaN   \n",
      "29         NaN         NaN         NaN          NaN          NaN          NaN   \n",
      "30    0.134921    0.144917    0.130927     0.148915          NaN          NaN   \n",
      "27         NaN         NaN         NaN          NaN          NaN          NaN   \n",
      "34    0.862193    1.039206    0.263848     0.173929     0.154424     0.299342   \n",
      "33         NaN         NaN         NaN          NaN          NaN          NaN   \n",
      "\n",
      "    Duration_13  \n",
      "28          NaN  \n",
      "32     0.413279  \n",
      "31          NaN  \n",
      "24          NaN  \n",
      "29          NaN  \n",
      "30          NaN  \n",
      "27          NaN  \n",
      "34     0.183894  \n",
      "33          NaN  \n"
     ]
    }
   ],
   "source": [
    "\n",
    "max_length = max(len(v) for v in result_dict.values())\n",
    "padded_result_dict = {key: value + [None] * (max_length - len(value)) for key, value in result_dict.items()}\n",
    "\n",
    "\n",
    "df = pd.DataFrame.from_dict(padded_result_dict, orient='index', columns=[f'Duration_{i}' for i in range(1, max_length + 1)])\n",
    "print(\"Result DataFrame:\")\n",
    "print(df)"
   ]
  },
  {
   "cell_type": "code",
   "execution_count": 28,
   "metadata": {},
   "outputs": [
    {
     "data": {
      "text/html": [
       "<div>\n",
       "<style scoped>\n",
       "    .dataframe tbody tr th:only-of-type {\n",
       "        vertical-align: middle;\n",
       "    }\n",
       "\n",
       "    .dataframe tbody tr th {\n",
       "        vertical-align: top;\n",
       "    }\n",
       "\n",
       "    .dataframe thead th {\n",
       "        text-align: right;\n",
       "    }\n",
       "</style>\n",
       "<table border=\"1\" class=\"dataframe\">\n",
       "  <thead>\n",
       "    <tr style=\"text-align: right;\">\n",
       "      <th></th>\n",
       "      <th>Duration</th>\n",
       "    </tr>\n",
       "  </thead>\n",
       "  <tbody>\n",
       "  </tbody>\n",
       "</table>\n",
       "</div>"
      ],
      "text/plain": [
       "Empty DataFrame\n",
       "Columns: [Duration]\n",
       "Index: []"
      ]
     },
     "execution_count": 28,
     "metadata": {},
     "output_type": "execute_result"
    }
   ],
   "source": [
    "df"
   ]
  },
  {
   "cell_type": "code",
   "execution_count": 10,
   "metadata": {},
   "outputs": [
    {
     "name": "stdout",
     "output_type": "stream",
     "text": [
      "33.61078998073218\n",
      "38.4\n",
      "35.04202217673746\n"
     ]
    }
   ],
   "source": [
    "print((min(avg_dividedR_list)))\n",
    "print((max(avg_dividedR_list)))\n",
    "print(sum(avg_dividedR_list)/len(avg_dividedR_list))"
   ]
  },
  {
   "cell_type": "code",
   "execution_count": null,
   "metadata": {},
   "outputs": [],
   "source": []
  }
 ],
 "metadata": {
  "kernelspec": {
   "display_name": "Python 3",
   "language": "python",
   "name": "python3"
  },
  "language_info": {
   "codemirror_mode": {
    "name": "ipython",
    "version": 3
   },
   "file_extension": ".py",
   "mimetype": "text/x-python",
   "name": "python",
   "nbconvert_exporter": "python",
   "pygments_lexer": "ipython3",
   "version": "3.10.10"
  }
 },
 "nbformat": 4,
 "nbformat_minor": 2
}
